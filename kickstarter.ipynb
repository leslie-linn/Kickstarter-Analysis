{
 "cells": [
  {
   "cell_type": "markdown",
   "metadata": {},
   "source": [
    "### Import modual for analysis"
   ]
  },
  {
   "cell_type": "code",
   "execution_count": 364,
   "metadata": {},
   "outputs": [],
   "source": [
    "import numpy as np\n",
    "import seaborn as sn\n",
    "import matplotlib.pyplot as plt\n",
    "import random"
   ]
  },
  {
   "cell_type": "markdown",
   "metadata": {},
   "source": [
    "### Load the whole data \n",
    "\n",
    "Parse the data with ',' while importing the data and disignate the type as string,\n",
    "because of the first row which is the column names are all string, to avoid the later TypeError"
   ]
  },
  {
   "cell_type": "code",
   "execution_count": 365,
   "metadata": {
    "scrolled": true
   },
   "outputs": [],
   "source": [
    "# load the whole dataset \n",
    "kickstarter = np.loadtxt('kickstarter.csv',delimiter=',',\n",
    "                         dtype ='str',skiprows=1)\n",
    "\n",
    "# transpose the data so that each row can be displayes by each index whithin the array\n",
    "kickstarter_t = kickstarter.T\n"
   ]
  },
  {
   "cell_type": "markdown",
   "metadata": {},
   "source": [
    "### Display descriptive statistics \n",
    "Total numbers of projects can be achieved by using the shape attribute and index for the first element, which indicates how many rows(projects) are in the dataset\n"
   ]
  },
  {
   "cell_type": "markdown",
   "metadata": {},
   "source": [
    "\n",
    "First load the pledge data which currency is 'USD', and caculate the min, max, median and standard deviation for 'pledged' column and 'currency' column.\n",
    "\n",
    "Use the transposed data to extract the plege data and perform the calculation of the the min, max, median and standard deviation."
   ]
  },
  {
   "cell_type": "code",
   "execution_count": 366,
   "metadata": {},
   "outputs": [
    {
     "data": {
      "text/plain": [
       "array([ 321.  , 4431.12, 2500.  , ...,    0.  ,   50.  ,  155.  ])"
      ]
     },
     "execution_count": 366,
     "metadata": {},
     "output_type": "execute_result"
    }
   ],
   "source": [
    "# identified each columns names for later analysis reference by slicing only for the first row\n",
    "columns_name = np.loadtxt('HW3_kickstarter.csv',delimiter=',',\n",
    "                         dtype ='str')[0]\n",
    "\n",
    "pledged = kickstarter_t[3].astype('float')\n",
    "\n",
    "# utilize boolean indexing to get the USD currency in pledged data\n",
    "pledged_USD = pledged[kickstarter_t[6]=='USD'].astype('float') \n",
    "\n",
    "# the amount pledged (in U.S. dollars) data across all projects\n",
    "pledged_USD\n"
   ]
  },
  {
   "cell_type": "markdown",
   "metadata": {},
   "source": [
    "Use numpy statistics method to calcualte min, max, mean, median, and standard deviation"
   ]
  },
  {
   "cell_type": "code",
   "execution_count": 367,
   "metadata": {},
   "outputs": [
    {
     "name": "stdout",
     "output_type": "stream",
     "text": [
      "Total number of projects : 4184\n"
     ]
    }
   ],
   "source": [
    "# Total number of projects get be retrieved by passing the shape attribute and only get the row number\n",
    "# print out the answer 2(a)\n",
    "print(f'Total number of projects : {kickstarter.shape[0]}' )"
   ]
  },
  {
   "cell_type": "code",
   "execution_count": 368,
   "metadata": {},
   "outputs": [
    {
     "name": "stdout",
     "output_type": "stream",
     "text": [
      "sum = 4293556.62\n",
      "min = 0.0\n",
      "max = 111111.77\n",
      "median = 107.0\n",
      "standard deviation = 5138.333983978143\n"
     ]
    }
   ],
   "source": [
    "# sum\n",
    "print(f'sum = {np.sum(pledged_USD)}')\n",
    "\n",
    "# min\n",
    "print(f'min = {np.min(pledged_USD)}')\n",
    "\n",
    "# max\n",
    "print(f'max = {np.max(pledged_USD)}')\n",
    "\n",
    "# median\n",
    "print(f'median = {np.median(pledged_USD)}')\n",
    "\n",
    "# standard deviation\n",
    "print(f'standard deviation = {np.std(pledged_USD)}')"
   ]
  },
  {
   "cell_type": "markdown",
   "metadata": {},
   "source": [
    "#### Percentage of projects that earned total pledges of at least 2,500\n",
    "To get the percentage of the pledge over $2500, use it to be devided by the total number of the projects."
   ]
  },
  {
   "cell_type": "code",
   "execution_count": 369,
   "metadata": {},
   "outputs": [
    {
     "name": "stdout",
     "output_type": "stream",
     "text": [
      "Percentage of projects that earned total pledges of at least $2,500 is: 9.11%\n"
     ]
    }
   ],
   "source": [
    "# first get the total number of projects to calculate percentage\n",
    "total_number_of_projects = len(pledged)\n",
    "\n",
    "# sum the boolean array of the pledged which are over $2500\n",
    "\n",
    "total_pledges_at_least = 2500\n",
    "\n",
    "# sum the bolean array to get the number of projects which fit the criteria \n",
    "atleast_2500 = np.sum(pledged_USD >= total_pledges_at_least)\n",
    "\n",
    "# calculate the percentage \n",
    "percentage_at_least_2500 = atleast_2500/total_number_of_projects\n",
    "\n",
    "# print out the answer 2(c)\n",
    "print(f'Percentage of projects that earned total pledges of at least $2,500 is: {percentage_at_least_2500*100:.2f}%')\n"
   ]
  },
  {
   "cell_type": "code",
   "execution_count": 370,
   "metadata": {},
   "outputs": [
    {
     "data": {
      "text/plain": [
       "array(['Conceptual Art', 'Conceptual Art', 'Conceptual Art', ...,\n",
       "       'Painting', 'Painting', 'Painting'], dtype='<U67')"
      ]
     },
     "execution_count": 370,
     "metadata": {},
     "output_type": "execute_result"
    }
   ],
   "source": [
    "# load the category data by fetching the second last rows of the kickstarter_t data\n",
    "category_data = kickstarter_t[-2]\n",
    "category_data"
   ]
  },
  {
   "cell_type": "code",
   "execution_count": 371,
   "metadata": {},
   "outputs": [
    {
     "data": {
      "text/plain": [
       "array([['Ceramics', '204'],\n",
       "       ['Conceptual Art', '879'],\n",
       "       ['Digital Art', '1054'],\n",
       "       ['Illustration', '461'],\n",
       "       ['Painting', '1586']], dtype='<U67')"
      ]
     },
     "execution_count": 371,
     "metadata": {},
     "output_type": "execute_result"
    }
   ],
   "source": [
    "# unzip the output from np.unique function to get the counts number of each unique category \n",
    "# and name of each unique category\n",
    "unique, counts = np.unique(category_data, return_counts=True)\n",
    "\n",
    "# transpose the unzip data to get a better view and easier to analyze further\n",
    "category_data_T = np.asarray((unique, counts)).T\n",
    "\n",
    "#print out the counts of number of each category\n",
    "category_data_T"
   ]
  },
  {
   "cell_type": "markdown",
   "metadata": {},
   "source": [
    "#### Calculate percentage for each category\n",
    "\n",
    "First get the number of total category and use for loop five times because there are five category. Inside the for loop, first count the numbers of the category then apply the number to caluculate percentage of each. "
   ]
  },
  {
   "cell_type": "code",
   "execution_count": 372,
   "metadata": {},
   "outputs": [
    {
     "name": "stdout",
     "output_type": "stream",
     "text": [
      "the percentage of Conceptual Art : 4.88%\n",
      "the percentage of Conceptual Art : 21.01%\n",
      "the percentage of Conceptual Art : 25.19%\n",
      "the percentage of Conceptual Art : 11.02%\n",
      "the percentage of Conceptual Art : 37.91%\n"
     ]
    }
   ],
   "source": [
    "# sum the counts of category in the second column to get the total projects counts\n",
    "sum_total = sum(category_data_T[:,1].astype(int))\n",
    "\n",
    "# initialize a list object for later storage percentage data\n",
    "category_percentage_list=[]\n",
    "\n",
    "# there are five categories ready to be calculated for percentage, so set a for loop for 5 times\n",
    "for i in np.arange(5):\n",
    "    \n",
    "    # get the number of counts for each category\n",
    "    count = category_data_T[i,1].astype(int)\n",
    "    \n",
    "    # calculate the percnetage to the second decimal\n",
    "    percentage = count/sum_total*100\n",
    "    percentage = \"{:.2f}\".format(percentage)\n",
    "    \n",
    "    # append the percentage data to the empty list initiated at first to use it for later analysis\n",
    "    category_percentage_list.append(percentage)\n",
    "    print(f'the percentage of {category[i]} : {percentage}%')\n",
    "    \n",
    "# tranform the category_percentage_list to array \n",
    "category_percentage_list_arr = np.asarray(category_percentage_list)\n",
    "\n",
    "# change the type to float so the data can be plot properly\n",
    "category_percentage_list_arr = category_percentage_list_arr.astype(float)"
   ]
  },
  {
   "cell_type": "code",
   "execution_count": 373,
   "metadata": {},
   "outputs": [
    {
     "data": {
      "image/png": "[encoded data removed]",
      "text/plain": [
       "<Figure size 432x288 with 1 Axes>"
      ]
     },
     "metadata": {
      "needs_background": "light"
     },
     "output_type": "display_data"
    }
   ],
   "source": [
    "# plot the categay and the responding percentage for each category, and label the x,y axis\n",
    "plt.bar(hstack_category_T[0],arr,color='y')\n",
    "plt.title ('Percentage of Category')\n",
    "plt.xlabel('Categories')\n",
    "plt.ylabel('Percentage')\n",
    "\n",
    "# label percentage on each bar\n",
    "for i in range(len(hstack_category_T[0])):\n",
    "    plt.annotate(str(arr[i]), xy=(hstack_category_T[0][i],arr[i]), ha='center', va='bottom')"
   ]
  },
  {
   "cell_type": "markdown",
   "metadata": {},
   "source": [
    "From the above bar plot, we can infer that:\n",
    "    1. Illustration category is in the last two projects counts, howerever, its' percentagelots pattrative category to receive the most funding no matter in the counts \n",
    "    of projects or looking at the percentage data.\n",
    "    2. The ceramics category which has the lowest funding fell short from the paiting   category for up to 33%, which was a huge gap between the highest data and the lowest  data."
   ]
  },
  {
   "cell_type": "markdown",
   "metadata": {},
   "source": [
    "#### Load the project states data"
   ]
  },
  {
   "cell_type": "code",
   "execution_count": 374,
   "metadata": {},
   "outputs": [],
   "source": [
    "state_data = kickstarter_t[4]\n",
    "state_data_with_category = kickstarter_t[[-2,4]]\n",
    "state_data_with_category_t = state_data_with_category.T\n",
    "state_data_with_category_t\n",
    "category = state_data_with_category_t[:,0]"
   ]
  },
  {
   "cell_type": "markdown",
   "metadata": {},
   "source": [
    "\n",
    "Display a bar for each project category and the percentage of projects that were successful to know which project will mostly succeed. "
   ]
  },
  {
   "cell_type": "code",
   "execution_count": 375,
   "metadata": {},
   "outputs": [
    {
     "data": {
      "image/png": "[encoded data removed]",
      "text/plain": [
       "<Figure size 432x288 with 1 Axes>"
      ]
     },
     "metadata": {
      "needs_background": "light"
     },
     "output_type": "display_data"
    }
   ],
   "source": [
    "# initialize the percentage_list to store percentage data for each category later\n",
    "percentage_list=[ ]\n",
    "\n",
    "# get the category of each projects\n",
    "category_list = category_data_T[:,0]\n",
    "\n",
    "for i in category_list: \n",
    "    # count the numbers for each category \n",
    "    unique, counts = np.unique(state_data_with_category_t[category==i],return_counts=True)\n",
    "    state_for_category = np.asarray((unique, counts)).T\n",
    "    \n",
    "    # only retreive the state data\n",
    "    state_for_category = state_for_category[1:]\n",
    "    \n",
    "    count_state_category = dict(state_for_category)\n",
    "    \n",
    "    # turn the np.array to dictionary, \n",
    "    # so in the for loop the corresponding numbers of counts can be achieved by using .keys()\n",
    "    for j in count_state_category.keys():\n",
    "        count_state_category[j]=count_state_category[j].astype(int)\n",
    "    \n",
    "    successful = count_state_category.get('successful',0)\n",
    "    \n",
    "    # get the data for successful category\n",
    "    total_case = len(state_data_with_category_t[state_data_with_category_t==i])\n",
    "    \n",
    "    # calculate the successful percentage on each category \n",
    "    percentage_of_categary_state = successful/total_case*100\n",
    "\n",
    "\n",
    "    # add percentage of each category to the initialized list to pass this object to the bar plot\n",
    "    percentage_list.append(percentage_of_categary_state)\n",
    "    \n",
    "    # plot the data with category for X axis and percnetage for Y axis\n",
    "    plt.bar(i,percentage_of_categary_state)\n",
    "    plt.title ('Percentage of Successful Category')\n",
    "    plt.xlabel('Categories')\n",
    "    plt.ylabel('Percentage')\n",
    "    plt.annotate(str(percentage_of_categary_state), xy=(i,percentage_of_categary_state), ha='center', va='bottom')\n",
    "\n",
    "    \n",
    "plt.show()\n",
    "\n",
    "\n"
   ]
  },
  {
   "cell_type": "markdown",
   "metadata": {},
   "source": [
    "From the bar chart showing above, we can know that Ceramics category have the highest successful percetnage. Illustration and Paiting category both have zero successful projects."
   ]
  },
  {
   "cell_type": "code",
   "execution_count": 376,
   "metadata": {},
   "outputs": [
    {
     "data": {
      "text/plain": [
       "array([['FALSE', 'FALSE', 'FALSE', ..., 'FALSE', 'FALSE', 'FALSE'],\n",
       "       ['TRUE', 'TRUE', 'TRUE', ..., 'FALSE', 'FALSE', 'FALSE'],\n",
       "       ['successful', 'successful', 'successful', ..., 'failed',\n",
       "        'failed', 'failed']], dtype='<U67')"
      ]
     },
     "execution_count": 376,
     "metadata": {},
     "output_type": "execute_result"
    }
   ],
   "source": [
    "# Load the staff pick and spotlight data.\n",
    "staff_spotlight = kickstarter_t[[-6,-1,4]]\n",
    "staff_spotlight"
   ]
  },
  {
   "cell_type": "code",
   "execution_count": 377,
   "metadata": {},
   "outputs": [],
   "source": [
    "# identified all of staff picked or not projects and their state\n",
    "success_staff = staff_spotlight[[0,2]]\n",
    "success_staff = success_staff.T\n"
   ]
  },
  {
   "cell_type": "code",
   "execution_count": 378,
   "metadata": {},
   "outputs": [
    {
     "name": "stdout",
     "output_type": "stream",
     "text": [
      " the total number of projects identified as staff picks : 224\n"
     ]
    }
   ],
   "source": [
    "# get the staff pick or not data \n",
    "staff = staff_spotlight[0]\n",
    "\n",
    "# ge tht spotlight or not data\n",
    "spotlight = staff_spotlight[1]\n",
    "\n",
    "# count the number for staff pick and non staff pick projects\n",
    "unique_staff, counts_staff = np.unique(staff, return_counts=True)\n",
    "unique_staff_T = np.asarray((unique_staff, counts_staff)).T\n",
    "\n",
    "# get the count of numbers for \"TRUE\"\n",
    "number_staff_pick = unique_staff_T[1,1]\n",
    "\n",
    "# print out the answer\n",
    "print(f' the total number of projects identified as staff picks : {number_staff_pick}')"
   ]
  },
  {
   "cell_type": "code",
   "execution_count": 379,
   "metadata": {},
   "outputs": [
    {
     "name": "stdout",
     "output_type": "stream",
     "text": [
      " the total number of spotlight projects : 692\n"
     ]
    }
   ],
   "source": [
    "# count the number for spotlight and non spotlight projects\n",
    "unique_spotlight, counts_spotlight = np.unique(spotlight, return_counts=True)\n",
    "\n",
    "# transpose the data to make it easier to understand the data\n",
    "unique_spotlight_T = np.asarray((unique_spotlight, counts_spotlight)).T\n",
    "\n",
    "# get the count of numbers for \"TRUE\"\n",
    "number_spotlight = unique_spotlight_T[1,1]\n",
    "\n",
    "# print out the answer\n",
    "print(f' the total number of spotlight projects : {number_spotlight}')"
   ]
  },
  {
   "cell_type": "code",
   "execution_count": 380,
   "metadata": {},
   "outputs": [],
   "source": [
    "# set up the filter object for the successful project\n",
    "fltr = np.asarray(['successful'])\n",
    "\n",
    "# pass in the fltr object in np.in1d() to get only the successful project\n",
    "success_staff1 = success_staff[np.in1d(success_staff[:, 1], fltr)]\n"
   ]
  },
  {
   "cell_type": "code",
   "execution_count": 381,
   "metadata": {},
   "outputs": [
    {
     "name": "stdout",
     "output_type": "stream",
     "text": [
      "the success rate (percentage) of staff pick: 23.555%\n"
     ]
    }
   ],
   "source": [
    "# set up the second filter object for the hand picked project\n",
    "fltr2 = np.asarray(['TRUE'])\n",
    "\n",
    "# pass in the fltr2 object in np.in1d() to get only the staff pick project\n",
    "success_staff2 = success_staff1[np.in1d(success_staff1[:, 0], fltr2)]\n",
    "\n",
    "# print out the successful projects which were staff picked\n",
    "print(f'the success rate (percentage) of staff pick: {len(success_staff2)/len(success_staff1)*100:.3f}%')"
   ]
  },
  {
   "cell_type": "code",
   "execution_count": 382,
   "metadata": {},
   "outputs": [],
   "source": [
    "# identified all of spotlight or not projects and their state\n",
    "success_spotlight = staff_spotlight[[1,2]]\n",
    "success_spotlight = success_spotlight.T"
   ]
  },
  {
   "cell_type": "code",
   "execution_count": 383,
   "metadata": {},
   "outputs": [],
   "source": [
    "# set up the filter object for successful project\n",
    "fltr3 = np.asarray(['successful'])\n",
    "\n",
    "# pass in the fltr2 object in np.in1d() to get only the successful project\n",
    "success_spotlight = success_spotlight[np.in1d(success_spotlight[:, 1], fltr3)]"
   ]
  },
  {
   "cell_type": "code",
   "execution_count": 384,
   "metadata": {},
   "outputs": [
    {
     "name": "stdout",
     "output_type": "stream",
     "text": [
      "the success rate (percentage) of spotlight projects: 100.0%\n"
     ]
    }
   ],
   "source": [
    "# created the filter object for filtering out only spotlight project\n",
    "fltr4 = np.asarray(['TRUE'])\n",
    "\n",
    "# filter out the spotlight projects by passing the fltr4 to np.in1d()\n",
    "success_spotlight = success_spotlight[np.in1d(success_spotlight[:, 0], fltr4)]\n",
    "\n",
    "# print out the successful projects which were spotlight projects\n",
    "print(f'the success rate (percentage) of spotlight projects: {len(success_spotlight)/len(success_spotlight)*100}%')"
   ]
  },
  {
   "cell_type": "markdown",
   "metadata": {},
   "source": [
    "From the above analysis, the potlight projects have the 100% success percentage! \n",
    "The reason that spotlight projects can own 100% successful rate may be that because the projects which receive more attention get the chance to grow better. Second, the criteria of staff pick may vary from one staff to another, the quality of the staff pick category can be difficult to retain its quality compared to spotlight projects."
   ]
  },
  {
   "cell_type": "markdown",
   "metadata": {},
   "source": [
    "I'll then plot the total number of success projects from each currency. We can see that the projects received funding in the form of US dollars have the largest counts among the other currecy, further more, there are no successful projects for two of the currency(\"NOK\" and \"NZD\"). Therefore, we can infer that maybe next time should reduce the spending on the funding campaign on those two country."
   ]
  },
  {
   "cell_type": "code",
   "execution_count": 385,
   "metadata": {},
   "outputs": [],
   "source": [
    "# first stack the state data and currency data \n",
    "currency_state = np.vstack((kickstarter_t[6],state_data))\n",
    "\n",
    "# get the currency data\n",
    "currency = currency_state[0]\n",
    "\n",
    "# get the state data \n",
    "state_for_currency = currency_state[1].T\n"
   ]
  },
  {
   "cell_type": "code",
   "execution_count": 386,
   "metadata": {},
   "outputs": [
    {
     "data": {
      "text/plain": [
       "array([['AUD', '79'],\n",
       "       ['CAD', '190'],\n",
       "       ['CHF', '6'],\n",
       "       ['DKK', '15'],\n",
       "       ['EUR', '153'],\n",
       "       ['GBP', '371'],\n",
       "       ['NOK', '6'],\n",
       "       ['NZD', '5'],\n",
       "       ['SEK', '23'],\n",
       "       ['USD', '3336']], dtype='<U67')"
      ]
     },
     "execution_count": 386,
     "metadata": {},
     "output_type": "execute_result"
    }
   ],
   "source": [
    "# count the numbers for each currency and store it as a numpy array\n",
    "currency_state_unique, currency_state_counts = np.unique(currency, return_counts=True)\n",
    "currency_state = np.asarray((currency_state_unique, currency_state_counts))\n",
    "currency_state_count = currency_state.T\n",
    "currency_state_count"
   ]
  },
  {
   "cell_type": "code",
   "execution_count": 387,
   "metadata": {},
   "outputs": [],
   "source": [
    "# filter out the currency of each successful project\n",
    "success_for_currency = currency[state_for_currency=='successful']"
   ]
  },
  {
   "cell_type": "code",
   "execution_count": 388,
   "metadata": {},
   "outputs": [
    {
     "data": {
      "text/plain": [
       "Text(0.5, 1.0, 'Count of Currency of Successful projects')"
      ]
     },
     "execution_count": 388,
     "metadata": {},
     "output_type": "execute_result"
    },
    {
     "data": {
      "image/png": "[encoded data removed]",
      "text/plain": [
       "<Figure size 432x288 with 1 Axes>"
      ]
     },
     "metadata": {
      "needs_background": "light"
     },
     "output_type": "display_data"
    }
   ],
   "source": [
    "# count the numbers for each currency for successful projects\n",
    "currency_success, currency_success_count = np.unique(success_for_currency, return_counts=True)\n",
    "currency_success_arr = np.asarray((currency_success, currency_state_counts))\n",
    "\n",
    "# plot the data in a bar plot\n",
    "plt.bar(currency_success, currency_success_count, color = 'r')\n",
    "plt.xlabel('Currency')\n",
    "plt.ylabel('Number')\n",
    "plt.title('Count of Currency of Successful projects')"
   ]
  }
 ],
 "metadata": {
  "kernelspec": {
   "display_name": "Python 3",
   "language": "python",
   "name": "python3"
  },
  "language_info": {
   "codemirror_mode": {
    "name": "ipython",
    "version": 3
   },
   "file_extension": ".py",
   "mimetype": "text/x-python",
   "name": "python",
   "nbconvert_exporter": "python",
   "pygments_lexer": "ipython3",
   "version": "3.7.6"
  }
 },
 "nbformat": 4,
 "nbformat_minor": 4
}
